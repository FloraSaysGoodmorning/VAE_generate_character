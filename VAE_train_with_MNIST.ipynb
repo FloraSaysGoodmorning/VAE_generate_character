{
 "cells": [
  {
   "cell_type": "code",
   "execution_count": 48,
   "metadata": {},
   "outputs": [
    {
     "name": "stdout",
     "output_type": "stream",
     "text": [
      "Extracting MNIST_data/train-images-idx3-ubyte.gz\n",
      "Extracting MNIST_data/train-labels-idx1-ubyte.gz\n",
      "Extracting MNIST_data/t10k-images-idx3-ubyte.gz\n",
      "Extracting MNIST_data/t10k-labels-idx1-ubyte.gz\n"
     ]
    }
   ],
   "source": [
    "%matplotlib inline\n",
    "import tensorflow as tf\n",
    "import numpy as np\n",
    "import matplotlib.pyplot as plt\n",
    "from tensorflow.examples.tutorials.mnist import input_data\n",
    "mnist = input_data.read_data_sets('MNIST_data')\n",
    "\n",
    "old_v = tf.logging.get_verbosity()\n",
    "tf.logging.set_verbosity(tf.logging.ERROR)\n",
    "tf.logging.set_verbosity(old_v)"
   ]
  },
  {
   "cell_type": "markdown",
   "metadata": {},
   "source": [
    "## following this https://towardsdatascience.com/teaching-a-variational-autoencoder-vae-to-draw-mnist-characters-978675c95776"
   ]
  },
  {
   "cell_type": "code",
   "execution_count": 68,
   "metadata": {},
   "outputs": [],
   "source": [
    "tf.reset_default_graph()\n",
    "batch_size = 64\n",
    "\n",
    "X_in = tf.placeholder(dtype=tf.float32, shape=[None, 28, 28], name='X')\n",
    "Y    = tf.placeholder(dtype=tf.float32, shape=[None, 28, 28], name='Y')\n",
    "Y_flat = tf.reshape(Y, shape=[-1, 28 * 28])\n",
    "# keep_prob will be used when applying dropouts\n",
    "# it'll be 0.8 during training, and 1 when we're generating new data\n",
    "keep_prob = tf.placeholder(dtype=tf.float32, shape=(), name='keep_prob')\n",
    "\n",
    "# Hyper-parameters\n",
    "dec_in_channels = 1 # decode in 1 channel since it's greyscale\n",
    "n_latent = 8 # number of Z variables\n",
    "learning_rate_of_ADAM = 0.0005\n",
    "\n",
    "# ??\n",
    "reshaped_dim = [-1, 7, 7, dec_in_channels]\n",
    "inputs_decoder = 49 * dec_in_channels / 2\n",
    "\n",
    "\n",
    "def lrelu(x, alpha=0.3):\n",
    "    return tf.nn.leaky_relu(features = x, alpha=alpha)"
   ]
  },
  {
   "cell_type": "code",
   "execution_count": 69,
   "metadata": {},
   "outputs": [],
   "source": [
    "def encoder(X_in, keep_prob):\n",
    "    activation = lrelu\n",
    "    with tf.variable_scope(\"encoder\", reuse=None): # why?\n",
    "        X = tf.reshape(X_in, shape=[-1, 28, 28, 1]) #(64, 28, 28, 1)\n",
    "        x = tf.layers.conv2d(X, filters=64, kernel_size=4, strides=2, padding='same', activation=activation)\n",
    "        print(f\"conv2d: shape of x: {x.get_shape()}\")\n",
    "        x = tf.nn.dropout(x, keep_prob)\n",
    "        print(f\"dropout: shape of x: {x.get_shape()}\")\n",
    "        x = tf.layers.conv2d(x, filters=64, kernel_size=4, strides=2, padding='same', activation=activation)\n",
    "        print(f\"conv2d: shape of x: {x.get_shape()}\")\n",
    "        x = tf.nn.dropout(x, keep_prob)\n",
    "        print(f\"dropout: shape of x: {x.get_shape()}\")\n",
    "        x = tf.layers.conv2d(x, filters=64, kernel_size=4, strides=1, padding='same', activation=activation)\n",
    "        print(f\"conv2d: shape of x: {x.get_shape()}\")\n",
    "        x = tf.nn.dropout(x, keep_prob)\n",
    "        print(f\"dropout: shape of x: {x.get_shape()}\")\n",
    "        # Flattens the input while maintaining the batch_size.\n",
    "        x = tf.contrib.layers.flatten(x) #(xxx, 1)\n",
    "        print(f\"flatten: shape of x: {x.get_shape()}\")\n",
    "        # for dense(), the second argument `n_latent` is the number of neurons/nodes of the layer\n",
    "        mn = tf.layers.dense(x, units=n_latent) # (,8)\n",
    "        print(f\"dense: shape of mn: {mn.get_shape()}\")\n",
    "        # unit: dimention of output space\n",
    "        sd  = 0.5 * tf.layers.dense(x, units=n_latent) #(,8) # why 0.5??\n",
    "        print(f\"dense: shape of sd: {sd.get_shape()}\")\n",
    "        # epsilon ~ N(0,1)\n",
    "        epsilon = tf.random_normal(tf.stack([tf.shape(x)[0], n_latent]), seed = 1218)  #(xxx, 8)\n",
    "        # why take e^sd instead of sd like in original function?\n",
    "        z  = mn + tf.multiply(epsilon, tf.exp(sd)) # dimension of this?\n",
    "        print(f\"shape of epsilon: {epsilon.get_shape()}, shape of tf.exp(sd): {tf.exp(sd).get_shape()}\")\n",
    "        print(f\"shape of z: {z.get_shape()}\")\n",
    "        \n",
    "        return z, mn, sd"
   ]
  },
  {
   "cell_type": "code",
   "execution_count": 70,
   "metadata": {},
   "outputs": [],
   "source": [
    "def decoder(sampled_z, keep_prob):\n",
    "    with tf.variable_scope(\"decoder\", reuse=None):\n",
    "        x = tf.layers.dense(sampled_z, units=inputs_decoder, activation=lrelu)\n",
    "        print(f\"dense: shape of x: {x.get_shape()}\")\n",
    "        x = tf.layers.dense(x, units=inputs_decoder * 2, activation=lrelu) # why inputs_decoder * 2 + 1?\n",
    "        print(f\"dense: shape of x: {x.get_shape()}\")\n",
    "        x = tf.reshape(x, reshaped_dim)\n",
    "        print(f\"reshape: shape of x: {x.get_shape()}\")\n",
    "        x = tf.layers.conv2d_transpose(x, filters=64, kernel_size=4, strides=2, padding='same', activation=tf.nn.relu)\n",
    "        x = tf.nn.dropout(x, keep_prob)\n",
    "        print(f\"transposed conv2d: shape of x: {x.get_shape()}\")\n",
    "        x = tf.layers.conv2d_transpose(x, filters=64, kernel_size=4, strides=1, padding='same', activation=tf.nn.relu)\n",
    "        x = tf.nn.dropout(x, keep_prob)\n",
    "        print(f\"transposed conv2d: shape of x: {x.get_shape()}\")\n",
    "        x = tf.layers.conv2d_transpose(x, filters=64, kernel_size=4, strides=1, padding='same', activation=tf.nn.relu)\n",
    "        print(f\"transposed conv2d: shape of x: {x.get_shape()}\")\n",
    "        x = tf.contrib.layers.flatten(x)\n",
    "        print(f\"flatten: shape of x: {x.get_shape()}\")\n",
    "        x = tf.layers.dense(x, units=28*28, activation=tf.nn.sigmoid)\n",
    "        print(f\"dense: shape of x: {x.get_shape()}\")\n",
    "        img = tf.reshape(x, shape=[-1, 28, 28])\n",
    "        print(f\"Img : {img.get_shape()}\")\n",
    "        return img"
   ]
  },
  {
   "cell_type": "code",
   "execution_count": 71,
   "metadata": {},
   "outputs": [
    {
     "name": "stdout",
     "output_type": "stream",
     "text": [
      "conv2d: shape of x: (?, 14, 14, 64)\n",
      "dropout: shape of x: (?, 14, 14, 64)\n",
      "conv2d: shape of x: (?, 7, 7, 64)\n",
      "dropout: shape of x: (?, 7, 7, 64)\n",
      "conv2d: shape of x: (?, 7, 7, 64)\n",
      "dropout: shape of x: (?, 7, 7, 64)\n",
      "flatten: shape of x: (?, 3136)\n",
      "dense: shape of mn: (?, 8)\n",
      "dense: shape of sd: (?, 8)\n",
      "shape of epsilon: (?, 8), shape of tf.exp(sd): (?, 8)\n",
      "shape of z: (?, 8)\n",
      "dense: shape of x: (?, 24)\n",
      "dense: shape of x: (?, 49)\n",
      "reshape: shape of x: (?, 7, 7, 1)\n",
      "transposed conv2d: shape of x: (?, 14, 14, 64)\n",
      "transposed conv2d: shape of x: (?, 14, 14, 64)\n",
      "transposed conv2d: shape of x: (?, 14, 14, 64)\n",
      "flatten: shape of x: (?, 12544)\n",
      "dense: shape of x: (?, 784)\n",
      "Img : (?, 28, 28)\n"
     ]
    }
   ],
   "source": [
    "sampled, mn, sd = encoder(X_in, keep_prob)\n",
    "dec = decoder(sampled, keep_prob)"
   ]
  },
  {
   "cell_type": "code",
   "execution_count": 72,
   "metadata": {},
   "outputs": [
    {
     "data": {
      "text/plain": [
       "TensorShape([Dimension(None), Dimension(28), Dimension(28)])"
      ]
     },
     "execution_count": 72,
     "metadata": {},
     "output_type": "execute_result"
    }
   ],
   "source": [
    "dec.get_shape()"
   ]
  },
  {
   "cell_type": "code",
   "execution_count": 44,
   "metadata": {},
   "outputs": [],
   "source": [
    "# loss function should be image reconstruction loss + KL divergence"
   ]
  },
  {
   "cell_type": "code",
   "execution_count": 46,
   "metadata": {},
   "outputs": [],
   "source": [
    "# image reconstruction loss, we simply use squared difference\n",
    "# KL divergence for making sure our latent values will be sampled from a normal distribution\n",
    "# need to read more: https://jaan.io/what-is-variational-autoencoder-vae-tutorial/"
   ]
  },
  {
   "cell_type": "code",
   "execution_count": 56,
   "metadata": {},
   "outputs": [],
   "source": [
    "# tf.train.AdamOptimizer"
   ]
  },
  {
   "cell_type": "code",
   "execution_count": 73,
   "metadata": {},
   "outputs": [],
   "source": [
    "unreshaped = tf.reshape(dec, [-1, 28*28])\n",
    "img_loss = tf.reduce_sum(tf.squared_difference(unreshaped, Y_flat), 1)\n",
    "latent_loss = -0.5 * tf.reduce_sum(1.0 + 2.0 * sd - tf.square(mn) - tf.exp(2.0 * sd), 1) # ??\n",
    "loss = tf.reduce_mean(img_loss + latent_loss)\n",
    "optimizer = tf.train.AdamOptimizer(learning_rate_of_ADAM).minimize(loss)\n",
    "sess = tf.Session()\n",
    "sess.run(tf.global_variables_initializer())"
   ]
  },
  {
   "cell_type": "code",
   "execution_count": 65,
   "metadata": {},
   "outputs": [],
   "source": [
    "?? mnist.train.next_batch"
   ]
  },
  {
   "cell_type": "code",
   "execution_count": null,
   "metadata": {},
   "outputs": [
    {
     "data": {
      "image/png": "[encoded data removed]",
      "text/plain": [
       "<matplotlib.figure.Figure at 0x1c3a7996a0>"
      ]
     },
     "metadata": {},
     "output_type": "display_data"
    },
    {
     "data": {
      "image/png": "[encoded data removed]",
      "text/plain": [
       "<matplotlib.figure.Figure at 0x1c2d00a9e8>"
      ]
     },
     "metadata": {},
     "output_type": "display_data"
    },
    {
     "name": "stdout",
     "output_type": "stream",
     "text": [
      "0 178.31784 178.31302 0.004821129\n"
     ]
    },
    {
     "data": {
      "image/png": "[encoded data removed]",
      "text/plain": [
       "<matplotlib.figure.Figure at 0x1c319a0390>"
      ]
     },
     "metadata": {},
     "output_type": "display_data"
    },
    {
     "data": {
      "image/png": "[encoded data removed]",
      "text/plain": [
       "<matplotlib.figure.Figure at 0x1c304aa4a8>"
      ]
     },
     "metadata": {},
     "output_type": "display_data"
    },
    {
     "name": "stdout",
     "output_type": "stream",
     "text": [
      "200 48.501637 46.843357 1.6582811\n"
     ]
    }
   ],
   "source": [
    "# training\n",
    "for i in range(30000):\n",
    "    batch = [np.reshape(b, [28, 28]) for b in mnist.train.next_batch(batch_size=batch_size)[0]]\n",
    "    sess.run(optimizer, feed_dict = {X_in: batch, Y: batch, keep_prob: 0.8})\n",
    "        \n",
    "    if not i % 200:\n",
    "        ls, d, i_ls, d_ls, mu, sigm = sess.run([loss, dec, img_loss, latent_loss, mn, sd], feed_dict = {X_in: batch, Y: batch, keep_prob: 1.0})\n",
    "        plt.imshow(np.reshape(batch[0], [28, 28]), cmap='gray')\n",
    "        plt.show()\n",
    "        plt.imshow(d[0], cmap='gray')\n",
    "        plt.show()\n",
    "        print(i, ls, np.mean(i_ls), np.mean(d_ls))"
   ]
  },
  {
   "cell_type": "code",
   "execution_count": null,
   "metadata": {},
   "outputs": [],
   "source": [
    "randoms = [np.random.normal(0, 1, n_latent) for _ in range(10)]\n",
    "imgs = sess.run(dec, feed_dict = {sampled: randoms, keep_prob: 1.0})\n",
    "imgs = [np.reshape(imgs[i], [28, 28]) for i in range(len(imgs))]\n",
    "\n",
    "for img in imgs:\n",
    "    plt.figure(figsize=(1,1))\n",
    "    plt.axis('off')\n",
    "    plt.imshow(img, cmap='gray')"
   ]
  }
 ],
 "metadata": {
  "kernelspec": {
   "display_name": "Python 3",
   "language": "python",
   "name": "python3"
  },
  "language_info": {
   "codemirror_mode": {
    "name": "ipython",
    "version": 3
   },
   "file_extension": ".py",
   "mimetype": "text/x-python",
   "name": "python",
   "nbconvert_exporter": "python",
   "pygments_lexer": "ipython3",
   "version": "3.6.4"
  }
 },
 "nbformat": 4,
 "nbformat_minor": 2
}
